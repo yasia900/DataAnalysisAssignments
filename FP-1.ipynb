{
 "cells": [
  {
   "cell_type": "markdown",
   "metadata": {},
   "source": "# FP-1:  Final Project Proposal\n"
  },
  {
   "cell_type": "markdown",
   "metadata": {},
   "source": [
    "___\n",
    "\n",
    "# Impact of Air Pollution on Public Health</span>\n",
    "\n",
    "\n",
    "### Overview:\n",
    "\n",
    "* **Name**: Yaroslava Tokarieva\n",
    "* **Student number**: B990377233\n",
    "\n",
    "<br>\n",
    "\n",
    "\n",
    "<br>"
   ]
  },
  {
   "cell_type": "markdown",
   "metadata": {},
   "source": [
    "### Purpose:\n",
    "\n",
    "* The purpose of this Final Project is to investigate how air pollution levels are associated with health outcomes across countries and NUTS regions.\n",
    "* The key **dependent variables (DVs)** are:\n",
    "    * `Value`\n",
    "    * `Value for 100k Of Affected Population`\n",
    "    * (with corresponding CI values: `Value - lower CI`, `Value - upper CI`, `Value for 100k Of Affected Population - lower CI`, `Value for 100k Of Affected Population - upper CI`)\n",
    "* Key **independent variables (IVs)** include:\n",
    "    * `Air Pollution Average [ug/m3]`\n",
    "    * `Air Pollution Population Weighted Average [ug/m3]`\n",
    "    * `Air Pollutant`\n",
    "    * `Degree Of Urbanisation`\n",
    "    * `Population`\n",
    "    * `Affected Population`\n",
    "    * `Populated Area [km2]`\n",
    "    * `Year`\n",
    "    * `Sex`\n",
    "    * `Description Of Age Group`\n",
    "* This dataset contains observations across multiple European countries and NUTS regions.  \n",
    "  Each row corresponds to one population group defined by region, demographic characteristics, and pollutant exposure."
   ]
  },
  {
   "metadata": {},
   "cell_type": "markdown",
   "source": [
    "### Dataset source:\n",
    "\n",
    "The data come from the **“Burden of disease of air pollution (Countries & NUTS)”** dataset, provided by the  \n",
    "[European Environment Agency (EEA)](https://www.eea.europa.eu/en).\n",
    "\n",
    "The data are available for download **[here](https://discomap.eea.europa.eu/App/AQViewer/index.html?fqn=Airquality_Dissem.ebd.countries_and_nuts&ScenarioDescription=Baseline%20from%20WHO%202021%20AQG&UrbanisationDegree=All%20Areas%20)**.\n",
    "\n",
    "Published: **10 Dec 2024** by the **European Environment Agency**.\n",
    "\n",
    "#### References:\n",
    "\n",
    "European Environment Agency (2024). *Burden of disease of air pollution (Countries & NUTS)*.  \n",
    "\n"
   ]
  }
 ],
 "metadata": {
  "kernelspec": {
   "display_name": "Python 3 (ipykernel)",
   "language": "python",
   "name": "python3"
  },
  "language_info": {
   "codemirror_mode": {
    "name": "ipython",
    "version": 3
   },
   "file_extension": ".py",
   "mimetype": "text/x-python",
   "name": "python",
   "nbconvert_exporter": "python",
   "pygments_lexer": "ipython3",
   "version": "3.12.7"
  }
 },
 "nbformat": 4,
 "nbformat_minor": 4
}
